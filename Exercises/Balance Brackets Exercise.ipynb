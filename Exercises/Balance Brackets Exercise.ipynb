{
 "cells": [
  {
   "cell_type": "markdown",
   "metadata": {},
   "source": [
    "## Use a stack to check if the inputted brackets are balanced\n",
    "\n",
    "{[()]} is balanced while ({[}]) is not balanced"
   ]
  },
  {
   "cell_type": "code",
   "execution_count": 26,
   "metadata": {},
   "outputs": [],
   "source": [
    "string = \"{[()]}\"\n",
    "\n",
    "dic = {\")\": \"(\",\n",
    "       \"}\": \"{\",\n",
    "       \"]\": \"[\"}\n",
    "\n",
    "def balanced(brackets):\n",
    "    \n",
    "    stack = []\n",
    "    \n",
    "    for char in brackets:\n",
    "        \n",
    "        if not stack:\n",
    "            stack.append(char)\n",
    "        elif char not in dic:\n",
    "            stack.append(char)\n",
    "            #print(stack)\n",
    "        elif dic[char] == stack[-1]:\n",
    "                stack.pop()\n",
    "                #print(stack)\n",
    "        else:\n",
    "            stack.append(char)\n",
    "        \n",
    "    if not stack:\n",
    "        return True\n",
    "    else:\n",
    "        return False"
   ]
  },
  {
   "cell_type": "code",
   "execution_count": 27,
   "metadata": {},
   "outputs": [
    {
     "name": "stdout",
     "output_type": "stream",
     "text": [
      "['{']\n",
      "['{', '[']\n",
      "['{', '[', '(']\n",
      "['{', '[']\n",
      "['{']\n",
      "[]\n"
     ]
    },
    {
     "data": {
      "text/plain": [
       "True"
      ]
     },
     "execution_count": 27,
     "metadata": {},
     "output_type": "execute_result"
    }
   ],
   "source": [
    "balanced(string)"
   ]
  },
  {
   "cell_type": "code",
   "execution_count": 19,
   "metadata": {},
   "outputs": [
    {
     "data": {
      "text/plain": [
       "'{'"
      ]
     },
     "execution_count": 19,
     "metadata": {},
     "output_type": "execute_result"
    }
   ],
   "source": [
    "dic[\"}\"]"
   ]
  },
  {
   "cell_type": "code",
   "execution_count": null,
   "metadata": {},
   "outputs": [],
   "source": []
  }
 ],
 "metadata": {
  "kernelspec": {
   "display_name": "Python 3",
   "language": "python",
   "name": "python3"
  },
  "language_info": {
   "codemirror_mode": {
    "name": "ipython",
    "version": 3
   },
   "file_extension": ".py",
   "mimetype": "text/x-python",
   "name": "python",
   "nbconvert_exporter": "python",
   "pygments_lexer": "ipython3",
   "version": "3.7.6"
  }
 },
 "nbformat": 4,
 "nbformat_minor": 4
}
