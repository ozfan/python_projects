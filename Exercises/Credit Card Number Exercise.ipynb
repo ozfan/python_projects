{
 "cells": [
  {
   "cell_type": "markdown",
   "metadata": {},
   "source": [
    "## Credit Card Number Exercise"
   ]
  },
  {
   "cell_type": "code",
   "execution_count": 49,
   "metadata": {},
   "outputs": [],
   "source": [
    "def card_validation(card_number):\n",
    "    num_list = card_number[1::2]\n",
    "    num_list2 = card_number[0::2]\n",
    "    total = []\n",
    "    for i in range(len(num_list)):\n",
    "        amount = i * 2\n",
    "        total.append(amount)\n",
    "    total_sum = sum(total)\n",
    "    total2 = sum(num_list2)\n",
    "    final_total = total_sum + total2\n",
    "    print(final_total)\n",
    "    if final_total%10 == 0:\n",
    "        return True\n",
    "    else:\n",
    "        return False"
   ]
  },
  {
   "cell_type": "code",
   "execution_count": 50,
   "metadata": {},
   "outputs": [
    {
     "name": "stdout",
     "output_type": "stream",
     "text": [
      "75\n",
      "False\n"
     ]
    }
   ],
   "source": [
    "card = [3, 7, 1, 4, 4, 9, 6, 3, 5, 3, 9, 8, 4, 3, 1]\n",
    "print(card_validation(card))"
   ]
  },
  {
   "cell_type": "code",
   "execution_count": null,
   "metadata": {},
   "outputs": [],
   "source": []
  }
 ],
 "metadata": {
  "kernelspec": {
   "display_name": "Python 3",
   "language": "python",
   "name": "python3"
  },
  "language_info": {
   "codemirror_mode": {
    "name": "ipython",
    "version": 3
   },
   "file_extension": ".py",
   "mimetype": "text/x-python",
   "name": "python",
   "nbconvert_exporter": "python",
   "pygments_lexer": "ipython3",
   "version": "3.7.6"
  }
 },
 "nbformat": 4,
 "nbformat_minor": 4
}
