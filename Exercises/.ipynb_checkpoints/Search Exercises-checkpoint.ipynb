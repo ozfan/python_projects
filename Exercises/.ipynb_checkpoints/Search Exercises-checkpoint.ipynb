{
 "cells": [
  {
   "cell_type": "markdown",
   "metadata": {},
   "source": [
    "## Linear Search Exercise"
   ]
  },
  {
   "cell_type": "code",
   "execution_count": 32,
   "metadata": {},
   "outputs": [],
   "source": [
    "def linear_search(item, my_list):\n",
    "    pos = 0\n",
    "    found = False\n",
    "    \n",
    "    while pos < len(my_list) and found == False:\n",
    "        if my_list[pos] == item:\n",
    "            found = True\n",
    "        else:\n",
    "            pos += 1\n",
    "    return found"
   ]
  },
  {
   "cell_type": "code",
   "execution_count": 34,
   "metadata": {},
   "outputs": [
    {
     "data": {
      "text/plain": [
       "False"
      ]
     },
     "execution_count": 34,
     "metadata": {},
     "output_type": "execute_result"
    }
   ],
   "source": [
    "test = [8, 29, 50, 88, 29, 100, 203, 58]\n",
    "linear_search(88, test)\n",
    "linear_search(208, test)"
   ]
  },
  {
   "cell_type": "markdown",
   "metadata": {},
   "source": [
    "## Binary Search Exercise"
   ]
  },
  {
   "cell_type": "code",
   "execution_count": 8,
   "metadata": {},
   "outputs": [],
   "source": [
    "def binary_search(item, my_list):\n",
    "    found = False\n",
    "    first = 0\n",
    "    last = len(my_list) - 1\n",
    "    \n",
    "    while first <= last and found == False:\n",
    "        midpoint = (first + last)//2\n",
    "        print(midpoint)\n",
    "        if my_list[midpoint] == item:\n",
    "            found = True\n",
    "        else:\n",
    "            if my_list[midpoint] < item:\n",
    "                first = midpoint + 1\n",
    "                print(first, midpoint)\n",
    "            else:\n",
    "                last = midpoint - 1\n",
    "    return found"
   ]
  },
  {
   "cell_type": "code",
   "execution_count": 9,
   "metadata": {},
   "outputs": [
    {
     "name": "stdout",
     "output_type": "stream",
     "text": [
      "[3, 5, 6, 8, 20, 25, 90, 92, 100]\n",
      "4\n",
      "1\n",
      "2 1\n",
      "2\n",
      "3 2\n",
      "3\n",
      "True\n",
      "4\n",
      "5 4\n",
      "6\n",
      "7 6\n",
      "7\n",
      "8 7\n",
      "8\n",
      "9 8\n",
      "False\n"
     ]
    }
   ],
   "source": [
    "test = [6, 90, 100, 20, 3, 5, 8, 92, 25]\n",
    "test = sorted(test)\n",
    "print(test)\n",
    "print(binary_search(8, test))\n",
    "print(binary_search(102, test))"
   ]
  },
  {
   "cell_type": "markdown",
   "metadata": {},
   "source": [
    "## Insertion Sort Exercise"
   ]
  },
  {
   "cell_type": "code",
   "execution_count": null,
   "metadata": {},
   "outputs": [],
   "source": [
    "def insertion_sort(my_list):\n",
    "    n = len(my_list)\n",
    "    \n",
    "    for i in range(1, n):\n",
    "        value = my_list[i]\n",
    "        j = i\n",
    "        while "
   ]
  }
 ],
 "metadata": {
  "kernelspec": {
   "display_name": "Python 3",
   "language": "python",
   "name": "python3"
  },
  "language_info": {
   "codemirror_mode": {
    "name": "ipython",
    "version": 3
   },
   "file_extension": ".py",
   "mimetype": "text/x-python",
   "name": "python",
   "nbconvert_exporter": "python",
   "pygments_lexer": "ipython3",
   "version": "3.7.6"
  }
 },
 "nbformat": 4,
 "nbformat_minor": 4
}
