{
 "cells": [
  {
   "cell_type": "markdown",
   "metadata": {},
   "source": [
    "## Create Playing Card Class\n",
    "Creates a card with value and suit and then a function to display the card when called"
   ]
  },
  {
   "cell_type": "code",
   "execution_count": 22,
   "metadata": {},
   "outputs": [],
   "source": [
    "suits = {\"d\": \"Diamonds\",\n",
    "             \"h\": \"Hearts\",\n",
    "             \"s\": \"Spades\",\n",
    "             \"c\": \"Clubs\"}\n",
    "    \n",
    "values = {1: \"Ace\",\n",
    "              2: \"Two\",\n",
    "              3: \"Three\",\n",
    "              4: \"Four\",\n",
    "              5: \"Five\",\n",
    "              6: \"Six\",\n",
    "              7: \"Seven\",\n",
    "              8: \"Eight\",\n",
    "              9: \"Nine\",\n",
    "              10: \"Ten\",\n",
    "              11: \"Jack\",\n",
    "              12: \"Queen\",\n",
    "              13: \"King\"}\n",
    "\n",
    "class PlayingCard:\n",
    "    \n",
    "    \n",
    "    def __init__(self, value, suit):\n",
    "        self.value = values[value]\n",
    "        self.suit = suits[suit]\n",
    "        \n",
    "    def get_value(self):\n",
    "        return self.value\n",
    "    \n",
    "    def get_suit(self):\n",
    "        return self.suit\n",
    "    \n",
    "    def __str__(self):\n",
    "        \n",
    "        my_card = str(self.value) + \" of \" + str(self.suit)\n",
    "        return my_card"
   ]
  },
  {
   "cell_type": "code",
   "execution_count": 26,
   "metadata": {},
   "outputs": [],
   "source": [
    "my_card = PlayingCard(11, \"h\")"
   ]
  },
  {
   "cell_type": "code",
   "execution_count": 27,
   "metadata": {},
   "outputs": [
    {
     "name": "stdout",
     "output_type": "stream",
     "text": [
      "Jack of Hearts\n"
     ]
    }
   ],
   "source": [
    "print(my_card)"
   ]
  },
  {
   "cell_type": "code",
   "execution_count": 25,
   "metadata": {},
   "outputs": [
    {
     "data": {
      "text/plain": [
       "(<bound method PlayingCard.get_value of <__main__.PlayingCard object at 0x7f83a425f1d0>>,\n",
       " <bound method PlayingCard.get_suit of <__main__.PlayingCard object at 0x7f83a425f1d0>>)"
      ]
     },
     "execution_count": 25,
     "metadata": {},
     "output_type": "execute_result"
    }
   ],
   "source": [
    "my_card.get_value, my_card.get_suit"
   ]
  },
  {
   "cell_type": "code",
   "execution_count": null,
   "metadata": {},
   "outputs": [],
   "source": []
  }
 ],
 "metadata": {
  "kernelspec": {
   "display_name": "Python 3",
   "language": "python",
   "name": "python3"
  },
  "language_info": {
   "codemirror_mode": {
    "name": "ipython",
    "version": 3
   },
   "file_extension": ".py",
   "mimetype": "text/x-python",
   "name": "python",
   "nbconvert_exporter": "python",
   "pygments_lexer": "ipython3",
   "version": "3.7.6"
  }
 },
 "nbformat": 4,
 "nbformat_minor": 4
}
