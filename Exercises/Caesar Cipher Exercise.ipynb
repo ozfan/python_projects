{
 "cells": [
  {
   "cell_type": "markdown",
   "metadata": {},
   "source": [
    "## Caesar Cipher Exercise"
   ]
  },
  {
   "cell_type": "code",
   "execution_count": 83,
   "metadata": {},
   "outputs": [],
   "source": [
    "import string\n",
    "\n",
    "def shift_amount(i):\n",
    "    return i%26\n",
    "\n",
    "alpha_list = string.ascii_lowercase\n",
    "\n",
    "def encrypt(message, num):\n",
    "    encrypted_message = ''\n",
    "    message = message.lower()\n",
    "    for char in message:\n",
    "        if char not in alpha_list:\n",
    "            encrypted_message += char\n",
    "        else:\n",
    "            positions = alpha_list.find(char)\n",
    "            encrypted_message += alpha_list[shift_amount(positions+num)]\n",
    "    return encrypted_message\n"
   ]
  },
  {
   "cell_type": "code",
   "execution_count": 91,
   "metadata": {},
   "outputs": [
    {
     "name": "stdout",
     "output_type": "stream",
     "text": [
      "esp nle dle zy esp xle\n"
     ]
    }
   ],
   "source": [
    "text = encrypt('the cat sat on the mat', 11)\n",
    "print(text)"
   ]
  },
  {
   "cell_type": "code",
   "execution_count": 92,
   "metadata": {},
   "outputs": [
    {
     "data": {
      "text/plain": [
       "'the cat sat on the mat'"
      ]
     },
     "execution_count": 92,
     "metadata": {},
     "output_type": "execute_result"
    }
   ],
   "source": [
    "encrypt(text, -11)"
   ]
  },
  {
   "cell_type": "code",
   "execution_count": null,
   "metadata": {},
   "outputs": [],
   "source": []
  }
 ],
 "metadata": {
  "kernelspec": {
   "display_name": "Python 3",
   "language": "python",
   "name": "python3"
  },
  "language_info": {
   "codemirror_mode": {
    "name": "ipython",
    "version": 3
   },
   "file_extension": ".py",
   "mimetype": "text/x-python",
   "name": "python",
   "nbconvert_exporter": "python",
   "pygments_lexer": "ipython3",
   "version": "3.7.6"
  }
 },
 "nbformat": 4,
 "nbformat_minor": 4
}
